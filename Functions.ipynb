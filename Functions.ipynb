{
  "nbformat": 4,
  "nbformat_minor": 0,
  "metadata": {
    "colab": {
      "provenance": []
    },
    "kernelspec": {
      "name": "python3",
      "display_name": "Python 3"
    },
    "language_info": {
      "name": "python"
    }
  },
  "cells": [
    {
      "cell_type": "markdown",
      "source": [
        "Functions assignment"
      ],
      "metadata": {
        "id": "5cJEuCuLnob0"
      }
    },
    {
      "cell_type": "markdown",
      "source": [
        "1.  In Python, the main difference between a function and a method is:\n",
        "\n",
        "Function: A standalone block of code that performs a specific task. It is defined using the def keyword and can be called independently.\n",
        "Method: A function that is associated with an object and is called on that object. It is defined inside a class and often works with the object’s data."
      ],
      "metadata": {
        "id": "rBTYtbNNnv7U"
      }
    },
    {
      "cell_type": "code",
      "source": [
        "# Function\n",
        "def greet(name):\n",
        "    return f\"Hello, {name}!\"\n",
        "\n",
        "print(greet(\"Alice\"))  # Output: Hello, Alice!\n",
        "\n",
        "# Method\n",
        "class Greeter:\n",
        "    def greet(self, name):\n",
        "        return f\"Hello, {name}!\"\n",
        "\n",
        "greeter = Greeter()\n",
        "print(greeter.greet(\"Bob\"))  # Output: Hello, Bob!\n"
      ],
      "metadata": {
        "colab": {
          "base_uri": "https://localhost:8080/"
        },
        "id": "l0yDRABNoGJK",
        "outputId": "d765fd22-8bc4-488b-df4f-bc4903ff4641"
      },
      "execution_count": 1,
      "outputs": [
        {
          "output_type": "stream",
          "name": "stdout",
          "text": [
            "Hello, Alice!\n",
            "Hello, Bob!\n"
          ]
        }
      ]
    },
    {
      "cell_type": "markdown",
      "source": [
        "2. Explain the concept of function arguments and parameters in Python\n",
        "- In Python:\n",
        "\n",
        "Parameters are variables listed in a function's definition to receive input.\n",
        "Arguments are actual values passed to the function when it's called."
      ],
      "metadata": {
        "id": "lJ93JF2coKLd"
      }
    },
    {
      "cell_type": "code",
      "source": [
        "# Function with parameters\n",
        "def add_numbers(a, b):  # 'a' and 'b' are parameters\n",
        "    return a + b\n",
        "\n",
        "# Calling the function with arguments\n",
        "result = add_numbers(5, 3)  # 5 and 3 are arguments\n",
        "print(result)  # Output: 8\n"
      ],
      "metadata": {
        "colab": {
          "base_uri": "https://localhost:8080/"
        },
        "id": "PkTqgnTSoc1h",
        "outputId": "a4e59722-3882-469b-b9fa-c7ea5d09c5ef"
      },
      "execution_count": 2,
      "outputs": [
        {
          "output_type": "stream",
          "name": "stdout",
          "text": [
            "8\n"
          ]
        }
      ]
    },
    {
      "cell_type": "markdown",
      "source": [
        "3. What are the different ways to define and call a function in Python?\n",
        "- Standard Function\n",
        "Defined using the def keyword and called by its name."
      ],
      "metadata": {
        "id": "7oZfGi7-ogaj"
      }
    },
    {
      "cell_type": "code",
      "source": [
        "def greet(name):\n",
        "    return f\"Hello, {name}!\"\n",
        "\n",
        "print(greet(\"Alice\"))  # Output: Hello, Alice!\n"
      ],
      "metadata": {
        "colab": {
          "base_uri": "https://localhost:8080/"
        },
        "id": "YWAwdj-Qo30L",
        "outputId": "b87f347c-6b2e-4c9c-fb48-a72d3c9477a7"
      },
      "execution_count": 6,
      "outputs": [
        {
          "output_type": "stream",
          "name": "stdout",
          "text": [
            "Hello, Alice!\n"
          ]
        }
      ]
    },
    {
      "cell_type": "markdown",
      "source": [
        "Lambda Function\n",
        "A one-line anonymous function using the lambda keyword."
      ],
      "metadata": {
        "id": "n9-TM5H3o6GZ"
      }
    },
    {
      "cell_type": "code",
      "source": [
        "add = lambda x, y: x + y\n",
        "print(add(3, 4))  # Output: 7\n"
      ],
      "metadata": {
        "colab": {
          "base_uri": "https://localhost:8080/"
        },
        "id": "d5Rb9Qego9j5",
        "outputId": "aadf0c9e-f6ef-4b4e-f11e-8958ec8121d5"
      },
      "execution_count": 7,
      "outputs": [
        {
          "output_type": "stream",
          "name": "stdout",
          "text": [
            "7\n"
          ]
        }
      ]
    },
    {
      "cell_type": "markdown",
      "source": [
        "Built-in Function\n",
        "Python provides predefined functions like len() or print()."
      ],
      "metadata": {
        "id": "SL22bcJEpFBe"
      }
    },
    {
      "cell_type": "code",
      "source": [
        "print(len(\"Python\"))  # Output: 6\n"
      ],
      "metadata": {
        "colab": {
          "base_uri": "https://localhost:8080/"
        },
        "id": "VNPvHx9GpI-U",
        "outputId": "eddb8fbe-2598-4b77-faae-2c05e7c1e349"
      },
      "execution_count": 8,
      "outputs": [
        {
          "output_type": "stream",
          "name": "stdout",
          "text": [
            "6\n"
          ]
        }
      ]
    },
    {
      "cell_type": "markdown",
      "source": [
        "Method inside a Class\n",
        "Functions defined within a class are called methods."
      ],
      "metadata": {
        "id": "x4XtHHJUpLoQ"
      }
    },
    {
      "cell_type": "code",
      "source": [
        "class Calculator:\n",
        "    def multiply(self, a, b):\n",
        "        return a * b\n",
        "\n",
        "calc = Calculator()\n",
        "print(calc.multiply(2, 3))  # Output: 6\n"
      ],
      "metadata": {
        "colab": {
          "base_uri": "https://localhost:8080/"
        },
        "id": "dmKbMYiupPU9",
        "outputId": "7241abb5-dd4d-4993-f382-fc1a1fbb3c9f"
      },
      "execution_count": 9,
      "outputs": [
        {
          "output_type": "stream",
          "name": "stdout",
          "text": [
            "6\n"
          ]
        }
      ]
    },
    {
      "cell_type": "markdown",
      "source": [
        "4. What is the purpose of the `return` statement in a Python function?\n",
        "-The return statement in a Python function is used to send a value back to the caller. It ends the function's execution and specifies what value (if any) the function should produce as its result."
      ],
      "metadata": {
        "id": "ByNvCu2ZpTGk"
      }
    },
    {
      "cell_type": "code",
      "source": [
        "def square(number):\n",
        "    return number * number  # Returns the square of the input\n",
        "\n",
        "result = square(4)\n",
        "print(result)  # Output: 16\n"
      ],
      "metadata": {
        "colab": {
          "base_uri": "https://localhost:8080/"
        },
        "id": "Kw9UNjKKpfKF",
        "outputId": "ce3165e5-3eb9-4e05-a517-3f341a5cad0d"
      },
      "execution_count": 3,
      "outputs": [
        {
          "output_type": "stream",
          "name": "stdout",
          "text": [
            "16\n"
          ]
        }
      ]
    },
    {
      "cell_type": "markdown",
      "source": [
        "5. What are iterators in Python and how do they differ from iterables?\n",
        "- In Python:\n",
        "\n",
        "Iterable: An object that can be looped over (e.g., lists, tuples, strings) using an iterator. It implements the __iter__() method.\n",
        "Iterator: An object that produces one value at a time as you iterate over it. It implements both __iter__() and __next__() methods."
      ],
      "metadata": {
        "id": "NMgoc5xZpi9l"
      }
    },
    {
      "cell_type": "code",
      "source": [
        "# Iterable (list)\n",
        "numbers = [1, 2, 3]\n",
        "for num in numbers:  # Automatically uses an iterator\n",
        "    print(num)  # Output: 1, 2, 3\n",
        "\n",
        "# Iterator\n",
        "iterator = iter(numbers)  # Convert list to iterator\n",
        "print(next(iterator))  # Output: 1\n",
        "print(next(iterator))  # Output: 2\n",
        "print(next(iterator))  # Output: 3\n"
      ],
      "metadata": {
        "colab": {
          "base_uri": "https://localhost:8080/"
        },
        "id": "_cbp91NbpvuG",
        "outputId": "8b5bd78f-ba47-4e16-f010-68f68427149b"
      },
      "execution_count": 4,
      "outputs": [
        {
          "output_type": "stream",
          "name": "stdout",
          "text": [
            "1\n",
            "2\n",
            "3\n",
            "1\n",
            "2\n",
            "3\n"
          ]
        }
      ]
    },
    {
      "cell_type": "markdown",
      "source": [
        "6. Explain the concept of generators in Python and how they are defined.\n",
        "- Generators in Python are a type of iterable that allow you to produce a sequence of values lazily (one at a time) without storing the entire sequence in memory. They are useful for working with large datasets or streams of data."
      ],
      "metadata": {
        "id": "GO2w9DRbp2g3"
      }
    },
    {
      "cell_type": "code",
      "source": [
        "# Defining a generator\n",
        "def count_up_to(n):\n",
        "    count = 1\n",
        "    while count <= n:\n",
        "        yield count  # Yields the current value\n",
        "        count += 1\n",
        "\n",
        "# Using the generator\n",
        "counter = count_up_to(3)\n",
        "print(next(counter))  # Output: 1\n",
        "print(next(counter))  # Output: 2\n",
        "print(next(counter))  # Output: 3\n",
        "# If called again, it raises StopIteration\n"
      ],
      "metadata": {
        "colab": {
          "base_uri": "https://localhost:8080/"
        },
        "id": "8VV78anAqBaT",
        "outputId": "49c6f880-4a3f-4bf4-c768-894984224ade"
      },
      "execution_count": 10,
      "outputs": [
        {
          "output_type": "stream",
          "name": "stdout",
          "text": [
            "1\n",
            "2\n",
            "3\n"
          ]
        }
      ]
    },
    {
      "cell_type": "markdown",
      "source": [
        "7. What are the advantages of using generators over regular functions?\n",
        "Generators offer several advantages over regular functions in Python, particularly when dealing with large datasets or streams of data:\n",
        "\n",
        "Memory Efficiency\n",
        "Generators produce values one at a time and do not store the entire sequence in memory, making them ideal for large datasets."
      ],
      "metadata": {
        "id": "rBo3vNeVqFRf"
      }
    },
    {
      "cell_type": "code",
      "source": [
        "def large_sequence():\n",
        "    for i in range(10**6):\n",
        "        yield i  # Generates values one at a time\n"
      ],
      "metadata": {
        "id": "cUPhcvCzqOWv"
      },
      "execution_count": 11,
      "outputs": []
    },
    {
      "cell_type": "markdown",
      "source": [
        "Lazy Evaluation\n",
        "Values are generated only when needed, which can improve performance and reduce computation overhead."
      ],
      "metadata": {
        "id": "S9dQjKrBqQ3V"
      }
    },
    {
      "cell_type": "code",
      "source": [
        "gen = (x * x for x in range(5))  # Generates squares lazily\n",
        "print(next(gen))  # Output: 0\n"
      ],
      "metadata": {
        "colab": {
          "base_uri": "https://localhost:8080/"
        },
        "id": "onFTbWqUqVjz",
        "outputId": "ac996f93-73a4-495a-8cd7-5ac624826a66"
      },
      "execution_count": 12,
      "outputs": [
        {
          "output_type": "stream",
          "name": "stdout",
          "text": [
            "0\n"
          ]
        }
      ]
    },
    {
      "cell_type": "markdown",
      "source": [
        "8. What is a lambda function in Python and when is it typically used?\n",
        "- A lambda function in Python is a small, anonymous function defined using the lambda keyword. It can have multiple arguments but only one expression, which is evaluated and returned."
      ],
      "metadata": {
        "id": "w54f7nABqYEV"
      }
    },
    {
      "cell_type": "code",
      "source": [
        "# Lambda function to add two numbers\n",
        "add = lambda x, y: x + y\n",
        "print(add(3, 5))  # Output: 8\n",
        "\n",
        "# Using lambda with sorted()\n",
        "names = [\"Alice\", \"Bob\", \"Charlie\"]\n",
        "sorted_names = sorted(names, key=lambda name: len(name))\n",
        "print(sorted_names)  # Output: ['Bob', 'Alice', 'Charlie']\n"
      ],
      "metadata": {
        "colab": {
          "base_uri": "https://localhost:8080/"
        },
        "id": "7K1LckS4qr-r",
        "outputId": "55d030ef-c377-4a17-b797-3ff10d9559e4"
      },
      "execution_count": 13,
      "outputs": [
        {
          "output_type": "stream",
          "name": "stdout",
          "text": [
            "8\n",
            "['Bob', 'Alice', 'Charlie']\n"
          ]
        }
      ]
    },
    {
      "cell_type": "markdown",
      "source": [
        "9. Explain the purpose and usage of the `map()` function in Python.\n",
        "- The map() function in Python applies a given function to every item in an iterable (e.g., list, tuple) and returns a map object (an iterator)."
      ],
      "metadata": {
        "id": "eHHS5lvKqwPJ"
      }
    },
    {
      "cell_type": "code",
      "source": [
        "# Using map to square numbers in a list\n",
        "numbers = [1, 2, 3, 4]\n",
        "squared = map(lambda x: x ** 2, numbers)\n",
        "print(list(squared))  # Output: [1, 4, 9, 16]\n"
      ],
      "metadata": {
        "colab": {
          "base_uri": "https://localhost:8080/"
        },
        "id": "PFo327mzq9Zm",
        "outputId": "3f8f652f-98f7-47e0-adb8-58a7a85eb755"
      },
      "execution_count": 14,
      "outputs": [
        {
          "output_type": "stream",
          "name": "stdout",
          "text": [
            "[1, 4, 9, 16]\n"
          ]
        }
      ]
    },
    {
      "cell_type": "markdown",
      "source": [
        "10. What is the difference between `map()`, `reduce()`, and `filter()` functions in Python?\n",
        "map(): Applies a function to each item in an iterable and returns an iterator of the results"
      ],
      "metadata": {
        "id": "yZSCLv5NrBfC"
      }
    },
    {
      "cell_type": "code",
      "source": [
        "numbers = [1, 2, 3, 4]\n",
        "squared = map(lambda x: x ** 2, numbers)\n",
        "print(list(squared))  # Output: [1, 4, 9, 16]\n"
      ],
      "metadata": {
        "colab": {
          "base_uri": "https://localhost:8080/"
        },
        "id": "Ju5okbmqrUpH",
        "outputId": "e64474f7-d2fe-4325-a767-6ca472b0cda8"
      },
      "execution_count": 15,
      "outputs": [
        {
          "output_type": "stream",
          "name": "stdout",
          "text": [
            "[1, 4, 9, 16]\n"
          ]
        }
      ]
    },
    {
      "cell_type": "markdown",
      "source": [
        "reduce(): From the functools module, it repeatedly applies a binary function (function that takes two arguments) to the items of an iterable, reducing them to a single value."
      ],
      "metadata": {
        "id": "jr56ocT4rWy9"
      }
    },
    {
      "cell_type": "code",
      "source": [
        "from functools import reduce\n",
        "numbers = [1, 2, 3, 4]\n",
        "result = reduce(lambda x, y: x + y, numbers)\n",
        "print(result)  # Output: 10 (1 + 2 + 3 + 4)\n"
      ],
      "metadata": {
        "colab": {
          "base_uri": "https://localhost:8080/"
        },
        "id": "BganJcxvrb02",
        "outputId": "eb252639-8e13-4951-8beb-94fdbb3cc1a3"
      },
      "execution_count": 16,
      "outputs": [
        {
          "output_type": "stream",
          "name": "stdout",
          "text": [
            "10\n"
          ]
        }
      ]
    },
    {
      "cell_type": "markdown",
      "source": [
        "ilter(): Filters items in an iterable based on a function that returns True or False, and returns an iterator with items for which the function returned True."
      ],
      "metadata": {
        "id": "CUpUwoMDrfgU"
      }
    },
    {
      "cell_type": "code",
      "source": [
        "numbers = [1, 2, 3, 4, 5]\n",
        "even = filter(lambda x: x % 2 == 0, numbers)\n",
        "print(list(even))  # Output: [2, 4]\n"
      ],
      "metadata": {
        "colab": {
          "base_uri": "https://localhost:8080/"
        },
        "id": "5jEOBc_Srmeb",
        "outputId": "dd0edf6c-4580-45cb-b5f6-c63bd81d0c84"
      },
      "execution_count": 17,
      "outputs": [
        {
          "output_type": "stream",
          "name": "stdout",
          "text": [
            "[2, 4]\n"
          ]
        }
      ]
    },
    {
      "cell_type": "markdown",
      "source": [
        "11. Using pen & Paper write the internal mechanism for sum operation using  reduce function on this given\n",
        "list:[47,11,42,13];\n",
        "-The reduce() function applies a binary function cumulatively to the items in an iterable, reducing it to a single value. Here's how the reduce() function works for summing the list [47, 11, 42, 13].\n",
        "\n",
        "Internal Mechanism for sum() using reduce():\n",
        "Initial Step: reduce() takes the first two elements (47 and 11) and applies the given function.\n",
        "\n",
        "47 + 11 = 58\n",
        "Next Step: The result (58) is then combined with the next item (42).\n",
        "\n",
        "58 + 42 = 100\n",
        "Final Step: The result (100) is then combined with the last item (13).\n",
        "\n",
        "100 + 13 = 113"
      ],
      "metadata": {
        "id": "jYrCgXu_romj"
      }
    },
    {
      "cell_type": "code",
      "source": [
        "from functools import reduce\n",
        "\n",
        "numbers = [47, 11, 42, 13]\n",
        "result = reduce(lambda x, y: x + y, numbers)\n",
        "print(result)  # Output: 113\n"
      ],
      "metadata": {
        "colab": {
          "base_uri": "https://localhost:8080/"
        },
        "id": "GLSAWyuAr6JN",
        "outputId": "7d374678-71ff-4020-f441-ed59f88d2148"
      },
      "execution_count": 18,
      "outputs": [
        {
          "output_type": "stream",
          "name": "stdout",
          "text": [
            "113\n"
          ]
        }
      ]
    },
    {
      "cell_type": "markdown",
      "source": [
        "Practical question"
      ],
      "metadata": {
        "id": "mIqigV3ur8oB"
      }
    },
    {
      "cell_type": "markdown",
      "source": [
        "1. 1. Write a Python function that takes a list of numbers as input and returns the sum of all even numbers in\n",
        "the list."
      ],
      "metadata": {
        "id": "_o22GCpVsIfr"
      }
    },
    {
      "cell_type": "code",
      "source": [
        "def sum_even_numbers(numbers):\n",
        "    # Use a list comprehension to filter even numbers and sum them\n",
        "    return sum(num for num in numbers if num % 2 == 0)\n",
        "\n",
        "# Example usage\n",
        "numbers = [1, 2, 3, 4, 5, 6]\n",
        "result = sum_even_numbers(numbers)\n",
        "print(result)  # Output: 12 (2 + 4 + 6)\n"
      ],
      "metadata": {
        "colab": {
          "base_uri": "https://localhost:8080/"
        },
        "id": "9lxuUOYqsKO9",
        "outputId": "3316fd1f-9f77-4d97-fe8f-8b71860c7d65"
      },
      "execution_count": 19,
      "outputs": [
        {
          "output_type": "stream",
          "name": "stdout",
          "text": [
            "12\n"
          ]
        }
      ]
    },
    {
      "cell_type": "markdown",
      "source": [
        "2. Create a Python function that accepts a string and returns the reverse of that string."
      ],
      "metadata": {
        "id": "TM7d0wWSsO3e"
      }
    },
    {
      "cell_type": "code",
      "source": [
        "def reverse_string(s):\n",
        "    return s[::-1]\n",
        "\n",
        "# Example usage\n",
        "input_string = \"hello\"\n",
        "result = reverse_string(input_string)\n",
        "print(result)  # Output: \"olleh\"\n"
      ],
      "metadata": {
        "colab": {
          "base_uri": "https://localhost:8080/"
        },
        "id": "J_wjf3-esSxj",
        "outputId": "ef98b775-5fde-4979-c0b2-39d9861d7d18"
      },
      "execution_count": 20,
      "outputs": [
        {
          "output_type": "stream",
          "name": "stdout",
          "text": [
            "olleh\n"
          ]
        }
      ]
    },
    {
      "cell_type": "markdown",
      "source": [
        "3. Implement a Python function that takes a list of integers and returns a new list containing the squares of\n",
        "each number."
      ],
      "metadata": {
        "id": "UX0KAEBgsZgO"
      }
    },
    {
      "cell_type": "code",
      "source": [
        "def square_numbers(numbers):\n",
        "    return [num ** 2 for num in numbers]\n",
        "\n",
        "# Example usage\n",
        "input_numbers = [1, 2, 3, 4, 5]\n",
        "result = square_numbers(input_numbers)\n",
        "print(result)  # Output: [1, 4, 9, 16, 25]\n"
      ],
      "metadata": {
        "colab": {
          "base_uri": "https://localhost:8080/"
        },
        "id": "NIcyy8HUscvx",
        "outputId": "96636239-b684-466f-c390-9d04865ec31e"
      },
      "execution_count": 21,
      "outputs": [
        {
          "output_type": "stream",
          "name": "stdout",
          "text": [
            "[1, 4, 9, 16, 25]\n"
          ]
        }
      ]
    },
    {
      "cell_type": "markdown",
      "source": [
        "4. Write a Python function that checks if a given number is prime or not from 1 to 200."
      ],
      "metadata": {
        "id": "VLzS9roqspvd"
      }
    },
    {
      "cell_type": "code",
      "source": [
        "def is_prime(n):\n",
        "    if n <= 1:\n",
        "        return False  # Numbers less than or equal to 1 are not prime\n",
        "    for i in range(2, int(n ** 0.5) + 1):  # Only check up to the square root of n\n",
        "        if n % i == 0:\n",
        "            return False  # If divisible by any number, it's not prime\n",
        "    return True\n",
        "\n",
        "# Example usage\n",
        "for num in range(1, 201):\n",
        "    if is_prime(num):\n",
        "        print(num, end=' ')  # Output: all prime numbers between 1 and 200\n"
      ],
      "metadata": {
        "colab": {
          "base_uri": "https://localhost:8080/"
        },
        "id": "5Y46gDSstZDG",
        "outputId": "b6ee5ea4-db22-40fa-9656-befec4f8629c"
      },
      "execution_count": 22,
      "outputs": [
        {
          "output_type": "stream",
          "name": "stdout",
          "text": [
            "2 3 5 7 11 13 17 19 23 29 31 37 41 43 47 53 59 61 67 71 73 79 83 89 97 101 103 107 109 113 127 131 137 139 149 151 157 163 167 173 179 181 191 193 197 199 "
          ]
        }
      ]
    },
    {
      "cell_type": "markdown",
      "source": [
        "5. Create an iterator class in Python that generates the Fibonacci sequence up to a specified number of\n",
        "terms."
      ],
      "metadata": {
        "id": "IPmHYIvTtc7u"
      }
    },
    {
      "cell_type": "code",
      "source": [
        "class FibonacciIterator:\n",
        "    def __init__(self, terms):\n",
        "        self.terms = terms  # Total number of terms\n",
        "        self.a, self.b = 0, 1  # Initial Fibonacci numbers\n",
        "\n",
        "    def __iter__(self):\n",
        "        return self  # Iterator object itself\n",
        "\n",
        "    def __next__(self):\n",
        "        if self.terms <= 0:\n",
        "            raise StopIteration  # Stop iteration when terms are exhausted\n",
        "        current = self.a\n",
        "        self.a, self.b = self.b, self.a + self.b  # Update Fibonacci numbers\n",
        "        self.terms -= 1\n",
        "        return current\n",
        "\n",
        "# Example usage\n",
        "fib = FibonacciIterator(10)  # Generate first 10 Fibonacci numbers\n",
        "for num in fib:\n",
        "    print(num, end=' ')  # Output: 0 1 1 2 3 5 8 13 21 34\n"
      ],
      "metadata": {
        "colab": {
          "base_uri": "https://localhost:8080/"
        },
        "id": "bRQP4CaRtsxX",
        "outputId": "dd8d2a17-b86c-408b-e8a3-2ae40ffeb2c1"
      },
      "execution_count": 23,
      "outputs": [
        {
          "output_type": "stream",
          "name": "stdout",
          "text": [
            "0 1 1 2 3 5 8 13 21 34 "
          ]
        }
      ]
    },
    {
      "cell_type": "markdown",
      "source": [
        "6. Write a generator function in Python that yields the powers of 2 up to a given exponent."
      ],
      "metadata": {
        "id": "BRjJrI4xtxqS"
      }
    },
    {
      "cell_type": "code",
      "source": [
        "def powers_of_2(exponent):\n",
        "    for i in range(exponent + 1):\n",
        "        yield 2 ** i\n",
        "\n",
        "# Example usage\n",
        "for power in powers_of_2(5):  # Yields powers of 2 up to 2^5\n",
        "    print(power, end=' ')  # Output: 1 2 4 8 16 32\n"
      ],
      "metadata": {
        "colab": {
          "base_uri": "https://localhost:8080/"
        },
        "id": "33prDwSut1Gs",
        "outputId": "74036399-cdeb-47ac-9031-72285e7a885c"
      },
      "execution_count": 24,
      "outputs": [
        {
          "output_type": "stream",
          "name": "stdout",
          "text": [
            "1 2 4 8 16 32 "
          ]
        }
      ]
    },
    {
      "cell_type": "markdown",
      "source": [
        "7. Implement a generator function that reads a file line by line and yields each line as a string."
      ],
      "metadata": {
        "id": "SSBeTAe3t6fo"
      }
    },
    {
      "cell_type": "code",
      "source": [
        "def read_lines(file_path):\n",
        "    with open(file_path, 'r') as file:\n",
        "        for line in file:\n",
        "            yield line.strip()  # Remove any leading/trailing whitespace\n",
        "\n",
        "# Example usage\n",
        "file_path = 'example.txt'  # Replace with your file path\n",
        "for line in read_lines(file_path):\n",
        "    print(line)  # Prints each line from the file\n"
      ],
      "metadata": {
        "colab": {
          "base_uri": "https://localhost:8080/",
          "height": 315
        },
        "id": "f_Hay3tzuA4D",
        "outputId": "497d7f0f-00f2-4023-f55f-b6bd2a523ae3"
      },
      "execution_count": 25,
      "outputs": [
        {
          "output_type": "error",
          "ename": "FileNotFoundError",
          "evalue": "[Errno 2] No such file or directory: 'example.txt'",
          "traceback": [
            "\u001b[0;31m---------------------------------------------------------------------------\u001b[0m",
            "\u001b[0;31mFileNotFoundError\u001b[0m                         Traceback (most recent call last)",
            "\u001b[0;32m<ipython-input-25-b7a5bac6e8c6>\u001b[0m in \u001b[0;36m<cell line: 8>\u001b[0;34m()\u001b[0m\n\u001b[1;32m      6\u001b[0m \u001b[0;31m# Example usage\u001b[0m\u001b[0;34m\u001b[0m\u001b[0;34m\u001b[0m\u001b[0m\n\u001b[1;32m      7\u001b[0m \u001b[0mfile_path\u001b[0m \u001b[0;34m=\u001b[0m \u001b[0;34m'example.txt'\u001b[0m  \u001b[0;31m# Replace with your file path\u001b[0m\u001b[0;34m\u001b[0m\u001b[0;34m\u001b[0m\u001b[0m\n\u001b[0;32m----> 8\u001b[0;31m \u001b[0;32mfor\u001b[0m \u001b[0mline\u001b[0m \u001b[0;32min\u001b[0m \u001b[0mread_lines\u001b[0m\u001b[0;34m(\u001b[0m\u001b[0mfile_path\u001b[0m\u001b[0;34m)\u001b[0m\u001b[0;34m:\u001b[0m\u001b[0;34m\u001b[0m\u001b[0;34m\u001b[0m\u001b[0m\n\u001b[0m\u001b[1;32m      9\u001b[0m     \u001b[0mprint\u001b[0m\u001b[0;34m(\u001b[0m\u001b[0mline\u001b[0m\u001b[0;34m)\u001b[0m  \u001b[0;31m# Prints each line from the file\u001b[0m\u001b[0;34m\u001b[0m\u001b[0;34m\u001b[0m\u001b[0m\n",
            "\u001b[0;32m<ipython-input-25-b7a5bac6e8c6>\u001b[0m in \u001b[0;36mread_lines\u001b[0;34m(file_path)\u001b[0m\n\u001b[1;32m      1\u001b[0m \u001b[0;32mdef\u001b[0m \u001b[0mread_lines\u001b[0m\u001b[0;34m(\u001b[0m\u001b[0mfile_path\u001b[0m\u001b[0;34m)\u001b[0m\u001b[0;34m:\u001b[0m\u001b[0;34m\u001b[0m\u001b[0;34m\u001b[0m\u001b[0m\n\u001b[0;32m----> 2\u001b[0;31m     \u001b[0;32mwith\u001b[0m \u001b[0mopen\u001b[0m\u001b[0;34m(\u001b[0m\u001b[0mfile_path\u001b[0m\u001b[0;34m,\u001b[0m \u001b[0;34m'r'\u001b[0m\u001b[0;34m)\u001b[0m \u001b[0;32mas\u001b[0m \u001b[0mfile\u001b[0m\u001b[0;34m:\u001b[0m\u001b[0;34m\u001b[0m\u001b[0;34m\u001b[0m\u001b[0m\n\u001b[0m\u001b[1;32m      3\u001b[0m         \u001b[0;32mfor\u001b[0m \u001b[0mline\u001b[0m \u001b[0;32min\u001b[0m \u001b[0mfile\u001b[0m\u001b[0;34m:\u001b[0m\u001b[0;34m\u001b[0m\u001b[0;34m\u001b[0m\u001b[0m\n\u001b[1;32m      4\u001b[0m             \u001b[0;32myield\u001b[0m \u001b[0mline\u001b[0m\u001b[0;34m.\u001b[0m\u001b[0mstrip\u001b[0m\u001b[0;34m(\u001b[0m\u001b[0;34m)\u001b[0m  \u001b[0;31m# Remove any leading/trailing whitespace\u001b[0m\u001b[0;34m\u001b[0m\u001b[0;34m\u001b[0m\u001b[0m\n\u001b[1;32m      5\u001b[0m \u001b[0;34m\u001b[0m\u001b[0m\n",
            "\u001b[0;31mFileNotFoundError\u001b[0m: [Errno 2] No such file or directory: 'example.txt'"
          ]
        }
      ]
    },
    {
      "cell_type": "markdown",
      "source": [
        "8. Use a lambda function in Python to sort a list of tuples based on the second element of each tuple"
      ],
      "metadata": {
        "id": "XclpZt_BuGDQ"
      }
    },
    {
      "cell_type": "code",
      "source": [
        "# List of tuples\n",
        "data = [(1, 3), (4, 1), (2, 5), (3, 2)]\n",
        "\n",
        "# Sorting using a lambda function based on the second element of each tuple\n",
        "sorted_data = sorted(data, key=lambda x: x[1])\n",
        "\n",
        "print(sorted_data)  # Output: [(4, 1), (3, 2), (1, 3), (2, 5)]\n"
      ],
      "metadata": {
        "colab": {
          "base_uri": "https://localhost:8080/"
        },
        "id": "dG1vmUinuJ76",
        "outputId": "940ce459-2ca5-447d-a631-222cf44a8863"
      },
      "execution_count": 26,
      "outputs": [
        {
          "output_type": "stream",
          "name": "stdout",
          "text": [
            "[(4, 1), (3, 2), (1, 3), (2, 5)]\n"
          ]
        }
      ]
    },
    {
      "cell_type": "markdown",
      "source": [
        "9. Write a Python program that uses `map()` to convert a list of temperatures from Celsius to Fahrenheit."
      ],
      "metadata": {
        "id": "dcqNW_UeuQmS"
      }
    },
    {
      "cell_type": "code",
      "source": [
        "# List of temperatures in Celsius\n",
        "celsius_temperatures = [0, 20, 37, 100, -10]\n",
        "\n",
        "# Function to convert Celsius to Fahrenheit\n",
        "def celsius_to_fahrenheit(celsius):\n",
        "    return (celsius * 9/5) + 32\n",
        "\n",
        "# Using map() to apply the conversion function\n",
        "fahrenheit_temperatures = map(celsius_to_fahrenheit, celsius_temperatures)\n",
        "\n",
        "# Convert the map object to a list and print the result\n",
        "print(list(fahrenheit_temperatures))  # Output: [32.0, 68.0, 98.6, 212.0, 14.0]\n"
      ],
      "metadata": {
        "colab": {
          "base_uri": "https://localhost:8080/"
        },
        "id": "8WT2lMj5uUOg",
        "outputId": "c87ed556-3821-4750-948b-395444aa009a"
      },
      "execution_count": 27,
      "outputs": [
        {
          "output_type": "stream",
          "name": "stdout",
          "text": [
            "[32.0, 68.0, 98.6, 212.0, 14.0]\n"
          ]
        }
      ]
    },
    {
      "cell_type": "markdown",
      "source": [
        "10. Create a Python program that uses `filter()` to remove all the vowels from a given string."
      ],
      "metadata": {
        "id": "Sksky7OJubhn"
      }
    },
    {
      "cell_type": "code",
      "source": [
        "# Function to check if a character is not a vowel\n",
        "def is_not_vowel(char):\n",
        "    return char.lower() not in 'aeiou'\n",
        "\n",
        "# Input string\n",
        "input_string = \"Hello, World!\"\n",
        "\n",
        "# Using filter() to remove vowels\n",
        "filtered_string = filter(is_not_vowel, input_string)\n",
        "\n",
        "# Convert the result to a string and print it\n",
        "result = ''.join(filtered_string)\n",
        "print(result)  # Output: \"Hll, Wrld!\"\n"
      ],
      "metadata": {
        "colab": {
          "base_uri": "https://localhost:8080/"
        },
        "id": "l3ff9sZ_ue6Y",
        "outputId": "85d22e5c-6fcb-47d5-bb24-7dfdbe90fbc0"
      },
      "execution_count": 28,
      "outputs": [
        {
          "output_type": "stream",
          "name": "stdout",
          "text": [
            "Hll, Wrld!\n"
          ]
        }
      ]
    },
    {
      "cell_type": "markdown",
      "source": [
        "11) Imagine an accounting routine used in a book shop. It works on a list with sublists, which look like this:\n"
      ],
      "metadata": {
        "id": "j0bhtIdAumWF"
      }
    },
    {
      "cell_type": "code",
      "source": [
        "# List of orders\n",
        "orders = [\n",
        "    [34587, \"Learning Python, Mark Lutz\", 4, 40.95],\n",
        "    [98762, \"Programming Python, Mark Lutz\", 5, 56.80],\n",
        "    [77226, \"Head First Python, Paul Barry\", 3, 32.95],\n",
        "    [88112, \"Einführung in Python3, Bernd Klein\", 3, 24.99]\n",
        "]\n",
        "\n",
        "# Calculate total price and adjust if needed\n",
        "result = list(map(\n",
        "    lambda order: (\n",
        "        order[0],\n",
        "        round(order[2] * order[3] + (10 if order[2] * order[3] < 100 else 0), 2)\n",
        "    ),\n",
        "    orders\n",
        "))\n",
        "\n",
        "print(result)"
      ],
      "metadata": {
        "colab": {
          "base_uri": "https://localhost:8080/"
        },
        "id": "ZmwSwrb-v9PN",
        "outputId": "0e1d653b-a7b9-4cc2-8d2e-083e28fbac6a"
      },
      "execution_count": 5,
      "outputs": [
        {
          "output_type": "stream",
          "name": "stdout",
          "text": [
            "[(34587, 163.8), (98762, 284.0), (77226, 108.85), (88112, 84.97)]\n"
          ]
        }
      ]
    }
  ]
}